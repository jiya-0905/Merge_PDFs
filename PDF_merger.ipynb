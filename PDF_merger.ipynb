{
  "nbformat": 4,
  "nbformat_minor": 0,
  "metadata": {
    "colab": {
      "provenance": [],
      "authorship_tag": "ABX9TyNA9dQr1zyxfGcUvXJ5QX26",
      "include_colab_link": true
    },
    "kernelspec": {
      "name": "python3",
      "display_name": "Python 3"
    },
    "language_info": {
      "name": "python"
    }
  },
  "cells": [
    {
      "cell_type": "markdown",
      "metadata": {
        "id": "view-in-github",
        "colab_type": "text"
      },
      "source": [
        "<a href=\"https://colab.research.google.com/github/jiya-0905/Merge_PDFs/blob/main/PDF_merger.ipynb\" target=\"_parent\"><img src=\"https://colab.research.google.com/assets/colab-badge.svg\" alt=\"Open In Colab\"/></a>"
      ]
    },
    {
      "cell_type": "code",
      "execution_count": 1,
      "metadata": {
        "colab": {
          "base_uri": "https://localhost:8080/"
        },
        "id": "CqXtHFyynn4y",
        "outputId": "df593846-6ce6-428b-ea44-4dd8752afdcd"
      },
      "outputs": [
        {
          "output_type": "stream",
          "name": "stdout",
          "text": [
            "Collecting PyPDF2\n",
            "  Downloading pypdf2-3.0.1-py3-none-any.whl (232 kB)\n",
            "\u001b[?25l     \u001b[90m━━━━━━━━━━━━━━━━━━━━━━━━━━━━━━━━━━━━━━━━\u001b[0m \u001b[32m0.0/232.6 kB\u001b[0m \u001b[31m?\u001b[0m eta \u001b[36m-:--:--\u001b[0m\r\u001b[2K     \u001b[91m━━━━━━━━━━━━\u001b[0m\u001b[90m╺\u001b[0m\u001b[90m━━━━━━━━━━━━━━━━━━━━━━━━━━━\u001b[0m \u001b[32m71.7/232.6 kB\u001b[0m \u001b[31m2.0 MB/s\u001b[0m eta \u001b[36m0:00:01\u001b[0m\r\u001b[2K     \u001b[90m━━━━━━━━━━━━━━━━━━━━━━━━━━━━━━━━━━━━━━━━\u001b[0m \u001b[32m232.6/232.6 kB\u001b[0m \u001b[31m3.8 MB/s\u001b[0m eta \u001b[36m0:00:00\u001b[0m\n",
            "\u001b[?25hInstalling collected packages: PyPDF2\n",
            "Successfully installed PyPDF2-3.0.1\n"
          ]
        }
      ],
      "source": [
        "!pip install PyPDF2"
      ]
    },
    {
      "cell_type": "code",
      "source": [
        "import PyPDF2\n",
        "\n",
        "def merge(ip_files, op_file):\n",
        "    writer = PyPDF2.PdfWriter()\n",
        "\n",
        "    for pdf in ip_files:\n",
        "        file = open(pdf, 'rb')\n",
        "        reader = PyPDF2.PdfReader(file)\n",
        "        page_num = len(reader.pages)\n",
        "\n",
        "        for page in range(page_num):\n",
        "            writer.add_page(reader.pages[page])\n",
        "\n",
        "        file.close()\n",
        "\n",
        "    with open(op_file, 'wb') as output_file:\n",
        "        writer.write(output_file)\n",
        "ip_files = [\"/content/ch1.pdf\", \"/content/ch2.pdf\"]\n",
        "op_file = \"output.pdf\"\n",
        "merge(ip_files, op_file)\n",
        ""
      ],
      "metadata": {
        "id": "FNOggh6Tnu2X"
      },
      "execution_count": 4,
      "outputs": []
    }
  ]
}